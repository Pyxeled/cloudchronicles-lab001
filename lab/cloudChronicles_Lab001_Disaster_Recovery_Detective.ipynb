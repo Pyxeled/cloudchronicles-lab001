{
 "cells": [
  {
   "cell_type": "markdown",
   "id": "0f1e0979",
   "metadata": {},
   "source": [
    "# 🧠 cloudChronicles Lab #001: Disaster Recovery Detective\n",
    "\n",
    "**Lab Type:** Idea  \n",
    "**Estimated Time:** 30–45 mins  \n",
    "**Skill Level:** Beginner"
   ]
  },
  {
   "cell_type": "code",
   "execution_count": null,
   "id": "a97f86ab",
   "metadata": {},
   "outputs": [],
   "source": [
    "# Let's begin by printing your name to personalize the notebook\n",
    "your_name = \"Habeeb\"\n",
    "print(f\"Welcome to the lab, {your_name}!\")"
   ]
  },
  {
   "cell_type": "markdown",
   "id": "0f94d019",
   "metadata": {},
   "source": [
    "## 🔍 STAR Method Lab Prompt\n",
    "\n",
    "**Situation:**  \n",
    "You are a Cloud Architect for \"QuickCart,\" a small but growing e-commerce startup. QuickCart's entire application (web front-end, order processing, and product database) is hosted in Google Cloud's `us-central1` region. The application uses:\n",
    "*   Google Compute Engine (GCE) instances for the web servers and application logic.\n",
    "*   Cloud SQL for PostgreSQL for the product catalog and customer orders.\n",
    "*   Cloud Storage for product images.\n",
    "A critical regional outage has just been reported by Google Cloud for `us-central1`, making all QuickCart services inaccessible. The CEO is asking for an immediate plan to get the store back online.\n",
    "\n",
    "**Task:**  \n",
    "Your task is to outline a basic disaster recovery (DR) plan using the STAR method. This plan should define how QuickCart can failover its critical services to a designated backup region (`us-east1`) using appropriate Google Cloud tools. The goal is to restore service with minimal data loss and downtime, considering QuickCart's current (simplified) infrastructure.\n",
    "\n",
    "**Action:**  \n",
    "[Step-by-step instructions using GCP tools.]\n",
    "\n",
    "**Expected Result:**  \n",
    "[A defined deliverable such as a DR plan, diagram, MVP, etc.]"
   ]
  },
  {
   "cell_type": "markdown",
   "id": "397b221d",
   "metadata": {},
   "source": [
    "## ✍️ Your Assignment\n",
    "\n",
    "_Use this section to complete your deliverable:_\n",
    "\n",
    "```markdown\n",
    "(Example Format)\n",
    "\n",
    "- **Primary Region**: us-central1  \n",
    "- **Backup Location**: us-east1  \n",
    "- **Failover Trigger**: Load balancer health check + Pub/Sub alert  \n",
    "- **Redundancy Services**:  \n",
    "   - Cloud SQL with failover  \n",
    "   - Cloud Storage versioning  \n",
    "   - Cloud Functions for health monitoring  \n",
    "- **Backup Schedule**: Every 6 hours, daily export to multi-region bucket  \n",
    "```"
   ]
  }
 ],
 "metadata": {},
 "nbformat": 4,
 "nbformat_minor": 5
}
